{
 "cells": [
  {
   "cell_type": "code",
   "execution_count": 47,
   "metadata": {},
   "outputs": [],
   "source": [
    "from pathlib import Path\n",
    "import dask.dataframe as dd"
   ]
  },
  {
   "cell_type": "code",
   "execution_count": 48,
   "metadata": {},
   "outputs": [],
   "source": [
    "# get the data from a hard dr\n",
    "folder_path = Path(\"/Volumes/Backup/aliyun_data\")"
   ]
  },
  {
   "cell_type": "code",
   "execution_count": 52,
   "metadata": {},
   "outputs": [],
   "source": [
    "# Load data using Dask\n",
    "raw_sample = dd.read_csv(f'{folder_path}/raw_sample.csv')\n",
    "ad_feature = dd.read_csv(f'{folder_path}/ad_feature.csv')\n",
    "behavior_log = dd.read_csv(f'{folder_path}/behavior_log.csv')"
   ]
  },
  {
   "cell_type": "code",
   "execution_count": 35,
   "metadata": {},
   "outputs": [],
   "source": [
    "# Filter clicks in raw_sample\n",
    "raw_sample_clicks = raw_sample[raw_sample['clk'] == 1]\n",
    "# Filter purchases in the behavior log\n",
    "behavior_log_purchases = behavior_log[behavior_log['btag'] == 'buy']"
   ]
  },
  {
   "cell_type": "code",
   "execution_count": 41,
   "metadata": {},
   "outputs": [],
   "source": [
    "# the raw data and behavior log of the users who click the ads and made the purchase\n",
    "raw_log_with_clicks_purchase = raw_sample_clicks.merge(behavior_log_purchases, on='user')"
   ]
  },
  {
   "cell_type": "code",
   "execution_count": 43,
   "metadata": {},
   "outputs": [],
   "source": [
    "# Merge with ad_feature to get the price of the items\n",
    "clicks_and_purchases_with_price = raw_log_with_clicks_purchase.merge(ad_feature, on='adgroup_id')"
   ]
  },
  {
   "cell_type": "code",
   "execution_count": 44,
   "metadata": {},
   "outputs": [
    {
     "name": "stdout",
     "output_type": "stream",
     "text": [
      "Total Revenue: 11724919517.489998\n"
     ]
    }
   ],
   "source": [
    "# Calculate total revenue\n",
    "revenue = clicks_and_purchases_with_price['price'].sum().compute()\n",
    "print(f\"Total Revenue: {revenue}\")"
   ]
  },
  {
   "cell_type": "code",
   "execution_count": null,
   "metadata": {},
   "outputs": [],
   "source": [
    "# # Calculate total impressions from raw_sample\n",
    "# total_impressions = raw_sample.shape[0].compute()\n",
    "\n",
    "# # Assuming a given cost per impression\n",
    "# cost_per_impression = 100  # Example value\n",
    "# cost = total_impressions * cost_per_impression\n",
    "# print(f\"Total Cost: {cost}\")\n",
    "\n",
    "# # Compute ROI\n",
    "# roi = (revenue - cost) / cost * 100\n",
    "# print(f\"ROI: {roi}%\")"
   ]
  }
 ],
 "metadata": {
  "kernelspec": {
   "display_name": "synthetic-langchain",
   "language": "python",
   "name": "python3"
  },
  "language_info": {
   "codemirror_mode": {
    "name": "ipython",
    "version": 3
   },
   "file_extension": ".py",
   "mimetype": "text/x-python",
   "name": "python",
   "nbconvert_exporter": "python",
   "pygments_lexer": "ipython3",
   "version": "3.9.18"
  }
 },
 "nbformat": 4,
 "nbformat_minor": 2
}
