{
 "cells": [
  {
   "cell_type": "markdown",
   "metadata": {},
   "source": [
    "## ROI on Aliyun Data"
   ]
  },
  {
   "cell_type": "code",
   "execution_count": 47,
   "metadata": {},
   "outputs": [],
   "source": [
    "from pathlib import Path\n",
    "import dask.dataframe as dd"
   ]
  },
  {
   "cell_type": "code",
   "execution_count": 48,
   "metadata": {},
   "outputs": [],
   "source": [
    "# get the data from a hard dr\n",
    "folder_path = Path(\"/Volumes/Backup/aliyun_data\")"
   ]
  },
  {
   "cell_type": "code",
   "execution_count": 52,
   "metadata": {},
   "outputs": [],
   "source": [
    "# Load data using Dask\n",
    "raw_sample = dd.read_csv(f'{folder_path}/raw_sample.csv')\n",
    "ad_feature = dd.read_csv(f'{folder_path}/ad_feature.csv')\n",
    "behavior_log = dd.read_csv(f'{folder_path}/behavior_log.csv')"
   ]
  },
  {
   "cell_type": "code",
   "execution_count": 35,
   "metadata": {},
   "outputs": [],
   "source": [
    "# Filter clicks in raw_sample\n",
    "raw_sample_clicks = raw_sample[raw_sample['clk'] == 1]\n",
    "# Filter purchases in the behavior log\n",
    "behavior_log_purchases = behavior_log[behavior_log['btag'] == 'buy']"
   ]
  },
  {
   "cell_type": "code",
   "execution_count": 41,
   "metadata": {},
   "outputs": [],
   "source": [
    "# the raw data and behavior log of the users who click the ads and made the purchase\n",
    "raw_log_with_clicks_purchase = raw_sample_clicks.merge(behavior_log_purchases, on='user')"
   ]
  },
  {
   "cell_type": "code",
   "execution_count": 43,
   "metadata": {},
   "outputs": [],
   "source": [
    "# Merge with ad_feature to get the price of the items\n",
    "clicks_and_purchases_with_price = raw_log_with_clicks_purchase.merge(ad_feature, on='adgroup_id')"
   ]
  },
  {
   "cell_type": "code",
   "execution_count": 44,
   "metadata": {},
   "outputs": [
    {
     "name": "stdout",
     "output_type": "stream",
     "text": [
      "Total Revenue: 11724919517.489998\n"
     ]
    }
   ],
   "source": [
    "# Calculate total revenue\n",
    "revenue = clicks_and_purchases_with_price['price'].sum().compute()\n",
    "print(f\"Total Revenue: {revenue}\")"
   ]
  },
  {
   "cell_type": "code",
   "execution_count": null,
   "metadata": {},
   "outputs": [],
   "source": [
    "# # Calculate total impressions from raw_sample\n",
    "# total_impressions = raw_sample.shape[0].compute()\n",
    "\n",
    "# # Assuming a given cost per impression\n",
    "# cost_per_impression = 100  # Example value\n",
    "# cost = total_impressions * cost_per_impression\n",
    "# print(f\"Total Cost: {cost}\")\n",
    "\n",
    "# # Compute ROI\n",
    "# roi = (revenue - cost) / cost * 100\n",
    "# print(f\"ROI: {roi}%\")"
   ]
  },
  {
   "cell_type": "markdown",
   "metadata": {},
   "source": [
    "## Analysis on Kaggle Data\n",
    "Data: https://www.kaggle.com/datasets/loveall/clicks-conversion-tracking/data"
   ]
  },
  {
   "cell_type": "code",
   "execution_count": 12,
   "metadata": {},
   "outputs": [
    {
     "name": "stdout",
     "output_type": "stream",
     "text": [
      "    ad_id  xyz_campaign_id  fb_campaign_id    age gender  interest  \\\n",
      "0  708746              916          103916  30-34      M        15   \n",
      "1  708749              916          103917  30-34      M        16   \n",
      "2  708771              916          103920  30-34      M        20   \n",
      "3  708815              916          103928  30-34      M        28   \n",
      "4  708818              916          103928  30-34      M        28   \n",
      "\n",
      "   Impressions  Clicks  Spent  Total_Conversion  Approved_Conversion  \n",
      "0         7350       1   1.43                 2                    1  \n",
      "1        17861       2   1.82                 2                    0  \n",
      "2          693       0   0.00                 1                    0  \n",
      "3         4259       1   1.25                 1                    0  \n",
      "4         4133       1   1.29                 1                    1  \n"
     ]
    }
   ],
   "source": [
    "import pandas as pd\n",
    "\n",
    "# Load the dataset\n",
    "df = pd.read_csv('KAG_conversion_data.csv')\n",
    "print(df.head())"
   ]
  },
  {
   "cell_type": "code",
   "execution_count": 3,
   "metadata": {},
   "outputs": [],
   "source": [
    "# Group the data by campaign ID\n",
    "campaign_group = df.groupby('xyz_campaign_id').agg({\n",
    "    'ad_id': 'count',\n",
    "    'Impressions': 'sum',\n",
    "    'Clicks': 'sum',\n",
    "    'Total_Conversion': 'sum',\n",
    "    'Approved_Conversion': 'sum',\n",
    "    'Spent': 'sum'\n",
    "}).reset_index()"
   ]
  },
  {
   "cell_type": "code",
   "execution_count": 4,
   "metadata": {},
   "outputs": [
    {
     "data": {
      "text/html": [
       "<div>\n",
       "<style scoped>\n",
       "    .dataframe tbody tr th:only-of-type {\n",
       "        vertical-align: middle;\n",
       "    }\n",
       "\n",
       "    .dataframe tbody tr th {\n",
       "        vertical-align: top;\n",
       "    }\n",
       "\n",
       "    .dataframe thead th {\n",
       "        text-align: right;\n",
       "    }\n",
       "</style>\n",
       "<table border=\"1\" class=\"dataframe\">\n",
       "  <thead>\n",
       "    <tr style=\"text-align: right;\">\n",
       "      <th></th>\n",
       "      <th>xyz_campaign_id</th>\n",
       "      <th>ad_id</th>\n",
       "      <th>Impressions</th>\n",
       "      <th>Clicks</th>\n",
       "      <th>Total_Conversion</th>\n",
       "      <th>Approved_Conversion</th>\n",
       "      <th>Spent</th>\n",
       "    </tr>\n",
       "  </thead>\n",
       "  <tbody>\n",
       "    <tr>\n",
       "      <th>0</th>\n",
       "      <td>916</td>\n",
       "      <td>54</td>\n",
       "      <td>482925</td>\n",
       "      <td>113</td>\n",
       "      <td>58</td>\n",
       "      <td>24</td>\n",
       "      <td>149.710001</td>\n",
       "    </tr>\n",
       "    <tr>\n",
       "      <th>1</th>\n",
       "      <td>936</td>\n",
       "      <td>464</td>\n",
       "      <td>8128187</td>\n",
       "      <td>1984</td>\n",
       "      <td>537</td>\n",
       "      <td>183</td>\n",
       "      <td>2893.369999</td>\n",
       "    </tr>\n",
       "    <tr>\n",
       "      <th>2</th>\n",
       "      <td>1178</td>\n",
       "      <td>625</td>\n",
       "      <td>204823716</td>\n",
       "      <td>36068</td>\n",
       "      <td>2669</td>\n",
       "      <td>872</td>\n",
       "      <td>55662.149959</td>\n",
       "    </tr>\n",
       "  </tbody>\n",
       "</table>\n",
       "</div>"
      ],
      "text/plain": [
       "   xyz_campaign_id  ad_id  Impressions  Clicks  Total_Conversion  \\\n",
       "0              916     54       482925     113                58   \n",
       "1              936    464      8128187    1984               537   \n",
       "2             1178    625    204823716   36068              2669   \n",
       "\n",
       "   Approved_Conversion         Spent  \n",
       "0                   24    149.710001  \n",
       "1                  183   2893.369999  \n",
       "2                  872  55662.149959  "
      ]
     },
     "execution_count": 4,
     "metadata": {},
     "output_type": "execute_result"
    }
   ],
   "source": [
    "campaign_group"
   ]
  },
  {
   "cell_type": "markdown",
   "metadata": {},
   "source": [
    "### The User Funnel\n",
    "- On the Overall Data\n",
    "- Campaign-Level"
   ]
  },
  {
   "cell_type": "code",
   "execution_count": 5,
   "metadata": {},
   "outputs": [
    {
     "name": "stdout",
     "output_type": "stream",
     "text": [
      "Total Impressions: 213434828\n",
      "Total Clicks: 38165\n",
      "Total Conversions: 3264\n",
      "Total Approved Conversions: 1079\n",
      "Click-Through Rate (CTR): 0.02%\n",
      "Conversion Rate: 8.55%\n",
      "Approval Rate: 33.06%\n"
     ]
    }
   ],
   "source": [
    "# Calculate the funnel metrics for the overall data\n",
    "total_impressions = df['Impressions'].sum()\n",
    "total_clicks = df['Clicks'].sum()\n",
    "total_conversions = df['Total_Conversion'].sum()\n",
    "total_approved_conversions = df['Approved_Conversion'].sum()\n",
    "\n",
    "ctr = (total_clicks / total_impressions) * 100 if total_impressions > 0 else 0  # Click-Through Rate (CTR)\n",
    "conversion_rate = (total_conversions / total_clicks) * 100 if total_clicks > 0 else 0  # Conversion Rate from clicks to conversions\n",
    "approval_rate = (total_approved_conversions / total_conversions) * 100 if total_conversions > 0 else 0  # Approval Rate from conversions to approved conversions\n",
    "\n",
    "print(f'Total Impressions: {total_impressions}')\n",
    "print(f'Total Clicks: {total_clicks}')\n",
    "print(f'Total Conversions: {total_conversions}')\n",
    "print(f'Total Approved Conversions: {total_approved_conversions}')\n",
    "print(f'Click-Through Rate (CTR): {ctr:.2f}%')\n",
    "print(f'Conversion Rate: {conversion_rate:.2f}%')\n",
    "print(f'Approval Rate: {approval_rate:.2f}%')"
   ]
  },
  {
   "cell_type": "code",
   "execution_count": 13,
   "metadata": {},
   "outputs": [
    {
     "name": "stdout",
     "output_type": "stream",
     "text": [
      "   xyz_campaign_id  Impressions  Clicks  Total_Conversions  \\\n",
      "0              916       482925     113                 58   \n",
      "1              936      8128187    1984                537   \n",
      "2             1178    204823716   36068               2669   \n",
      "\n",
      "   Approved_Conversions  Click-Through Rate (CTR)  Conversion Rate (CR)  \\\n",
      "0                    24                  0.000234              0.513274   \n",
      "1                   183                  0.000244              0.270665   \n",
      "2                   872                  0.000176              0.073999   \n",
      "\n",
      "   Approval Rate (AR)  \n",
      "0            0.413793  \n",
      "1            0.340782  \n",
      "2            0.326714  \n"
     ]
    }
   ],
   "source": [
    "# Group by campaign ID to calculate funnel metrics for each campaign\n",
    "funnel = df.groupby('xyz_campaign_id').agg(\n",
    "    Impressions=('Impressions', 'sum'),\n",
    "    Clicks=('Clicks', 'sum'),\n",
    "    Total_Conversions=('Total_Conversion', 'sum'),\n",
    "    Approved_Conversions=('Approved_Conversion', 'sum')\n",
    ").reset_index()\n",
    "\n",
    "funnel['Click-Through Rate (CTR)'] = funnel['Clicks'] / funnel['Impressions']\n",
    "funnel['Conversion Rate (CR)'] = funnel['Total_Conversions'] / funnel['Clicks']\n",
    "funnel['Approval Rate (AR)'] = funnel['Approved_Conversions'] / funnel['Total_Conversions']\n",
    "\n",
    "print(funnel)"
   ]
  },
  {
   "cell_type": "markdown",
   "metadata": {},
   "source": [
    "Equivalent SQL queries"
   ]
  },
  {
   "cell_type": "code",
   "execution_count": null,
   "metadata": {
    "vscode": {
     "languageId": "sql"
    }
   },
   "outputs": [],
   "source": [
    "-- Overall Funnel Metrics\n",
    "-- SELECT \n",
    "--     SUM(Impressions) AS total_impressions,\n",
    "--     SUM(Clicks) AS total_clicks,\n",
    "--     SUM(Total_Conversion) AS total_conversions,\n",
    "--     SUM(Approved_Conversion) AS total_approved_conversions,\n",
    "--     ROUND(SUM(Clicks) / NULLIF(SUM(Impressions), 0), 4) AS click_through_rate,\n",
    "--     ROUND(SUM(Total_Conversion) / NULLIF(SUM(Clicks), 0), 4) AS conversion_rate,\n",
    "--     ROUND(SUM(Approved_Conversion) / NULLIF(SUM(Total_Conversion), 0), 4) AS approval_rate\n",
    "-- FROM \n",
    "--     conversion_data;"
   ]
  },
  {
   "cell_type": "code",
   "execution_count": null,
   "metadata": {
    "vscode": {
     "languageId": "sql"
    }
   },
   "outputs": [],
   "source": [
    "-- Funnel Metrics by Campaign\n",
    "-- SELECT \n",
    "--     xyz_campaign_id,\n",
    "--     SUM(Impressions) AS total_impressions,\n",
    "--     SUM(Clicks) AS total_clicks,\n",
    "--     SUM(Total_Conversion) AS total_conversions,\n",
    "--     SUM(Approved_Conversion) AS total_approved_conversions,\n",
    "--     ROUND(SUM(Clicks) / NULLIF(SUM(Impressions), 0), 4) AS click_through_rate,\n",
    "--     ROUND(SUM(Total_Conversion) / NULLIF(SUM(Clicks), 0), 4) AS conversion_rate,\n",
    "--     ROUND(SUM(Approved_Conversion) / NULLIF(SUM(Total_Conversion), 0), 4) AS approval_rate\n",
    "-- FROM \n",
    "--     conversion_data\n",
    "-- GROUP BY \n",
    "--     xyz_campaign_id;"
   ]
  },
  {
   "cell_type": "markdown",
   "metadata": {},
   "source": [
    "### Customer Acquisition Cost\n",
    "- On the Overall Data\n",
    "- Campaign-Level"
   ]
  },
  {
   "cell_type": "code",
   "execution_count": 9,
   "metadata": {},
   "outputs": [
    {
     "name": "stdout",
     "output_type": "stream",
     "text": [
      "The overall Customer Acquisition Cost (CAC) is 54.41\n"
     ]
    }
   ],
   "source": [
    "# Calculate the overall Customer Acquisition Cost (CAC)\n",
    "total_spent = df['Spent'].sum()\n",
    "total_approved_conversions = df['Approved_Conversion'].sum()\n",
    "if total_approved_conversions > 0:\n",
    "    cac = total_spent / total_approved_conversions\n",
    "else:\n",
    "    cac = 0\n",
    "print(f\"The overall Customer Acquisition Cost (CAC) is {cac:.2f}\")"
   ]
  },
  {
   "cell_type": "code",
   "execution_count": 11,
   "metadata": {},
   "outputs": [
    {
     "name": "stdout",
     "output_type": "stream",
     "text": [
      "   xyz_campaign_id    CAC\n",
      "0              916   6.24\n",
      "1              936  15.81\n",
      "2             1178  63.83\n"
     ]
    },
    {
     "name": "stderr",
     "output_type": "stream",
     "text": [
      "/var/folders/_r/6_qzzw511b16y7chkmqr51_80000gn/T/ipykernel_1578/579198094.py:2: DeprecationWarning: DataFrameGroupBy.apply operated on the grouping columns. This behavior is deprecated, and in a future version of pandas the grouping columns will be excluded from the operation. Either pass `include_groups=False` to exclude the groupings or explicitly select the grouping columns after groupby to silence this warning.\n",
      "  campaign_cac = df.groupby('xyz_campaign_id').apply(\n"
     ]
    }
   ],
   "source": [
    "# Calculate Customer Acquisition Cost for each campaign\n",
    "campaign_cac = df.groupby('xyz_campaign_id').apply(\n",
    "    lambda x: round(x['Spent'].sum() / x['Approved_Conversion'].sum(), 2) if x['Approved_Conversion'].sum() > 0 else 0\n",
    ").reset_index(name='CAC')\n",
    "\n",
    "# Display the CAC for each campaign\n",
    "print(campaign_cac)"
   ]
  },
  {
   "cell_type": "markdown",
   "metadata": {},
   "source": [
    "Equivalent SQL queries"
   ]
  },
  {
   "cell_type": "code",
   "execution_count": null,
   "metadata": {
    "vscode": {
     "languageId": "sql"
    }
   },
   "outputs": [],
   "source": [
    "-- Overall CAC\n",
    "-- SELECT \n",
    "--     ROUND(SUM(Spent) / NULLIF(SUM(Approved_Conversion), 0), 2) AS overall_cac\n",
    "-- FROM \n",
    "--     conversion_data;"
   ]
  },
  {
   "cell_type": "code",
   "execution_count": null,
   "metadata": {
    "vscode": {
     "languageId": "sql"
    }
   },
   "outputs": [],
   "source": [
    "-- CAC by Campaign\n",
    "-- SELECT \n",
    "--     xyz_campaign_id,\n",
    "--     ROUND(SUM(Spent) / NULLIF(SUM(Approved_Conversion), 0), 2) AS campaign_cac\n",
    "-- FROM \n",
    "--     conversion_data\n",
    "-- GROUP BY \n",
    "--     xyz_campaign_id;"
   ]
  }
 ],
 "metadata": {
  "kernelspec": {
   "display_name": "synthetic-langchain",
   "language": "python",
   "name": "python3"
  },
  "language_info": {
   "codemirror_mode": {
    "name": "ipython",
    "version": 3
   },
   "file_extension": ".py",
   "mimetype": "text/x-python",
   "name": "python",
   "nbconvert_exporter": "python",
   "pygments_lexer": "ipython3",
   "version": "3.9.18"
  }
 },
 "nbformat": 4,
 "nbformat_minor": 2
}
